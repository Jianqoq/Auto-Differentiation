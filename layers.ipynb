{
 "cells": [
  {
   "cell_type": "code",
   "execution_count": 1,
   "id": "a8bb7b39",
   "metadata": {
    "ExecuteTime": {
     "end_time": "2023-02-10T00:07:37.435049Z",
     "start_time": "2023-02-10T00:07:37.425611Z"
    }
   },
   "outputs": [],
   "source": [
    "import numpy as np"
   ]
  },
  {
   "cell_type": "code",
   "execution_count": 11,
   "id": "57c54f41",
   "metadata": {
    "ExecuteTime": {
     "end_time": "2023-02-10T05:23:06.376628Z",
     "start_time": "2023-02-10T05:23:06.356761Z"
    },
    "code_folding": [
     6,
     14,
     39
    ],
    "run_control": {
     "marked": false
    }
   },
   "outputs": [
    {
     "ename": "ValueError",
     "evalue": "axis should be x or y",
     "output_type": "error",
     "traceback": [
      "\u001b[1;31m---------------------------------------------------------------------------\u001b[0m",
      "\u001b[1;31mValueError\u001b[0m                                Traceback (most recent call last)",
      "\u001b[1;32m~\\AppData\\Local\\Temp\\ipykernel_21456\\1508777533.py\u001b[0m in \u001b[0;36m<module>\u001b[1;34m\u001b[0m\n\u001b[0;32m     54\u001b[0m \u001b[1;33m\u001b[0m\u001b[0m\n\u001b[0;32m     55\u001b[0m \u001b[1;33m\u001b[0m\u001b[0m\n\u001b[1;32m---> 56\u001b[1;33m \u001b[0mRepeat\u001b[0m\u001b[1;33m(\u001b[0m\u001b[0mnp\u001b[0m\u001b[1;33m.\u001b[0m\u001b[0mrandom\u001b[0m\u001b[1;33m.\u001b[0m\u001b[0mrandn\u001b[0m\u001b[1;33m(\u001b[0m\u001b[1;36m1\u001b[0m\u001b[1;33m,\u001b[0m\u001b[1;36m1\u001b[0m\u001b[1;33m)\u001b[0m\u001b[1;33m,\u001b[0m \u001b[1;36m5\u001b[0m\u001b[1;33m,\u001b[0m \u001b[1;34m'xy'\u001b[0m\u001b[1;33m)\u001b[0m\u001b[1;33m\u001b[0m\u001b[1;33m\u001b[0m\u001b[0m\n\u001b[0m",
      "\u001b[1;32m~\\AppData\\Local\\Temp\\ipykernel_21456\\1508777533.py\u001b[0m in \u001b[0;36m__init__\u001b[1;34m(self, offset_var, repeat_num, axis)\u001b[0m\n\u001b[0;32m     40\u001b[0m             \u001b[0mself\u001b[0m\u001b[1;33m.\u001b[0m\u001b[0mrepeated\u001b[0m \u001b[1;33m=\u001b[0m \u001b[0mnp\u001b[0m\u001b[1;33m.\u001b[0m\u001b[0mrepeat\u001b[0m\u001b[1;33m(\u001b[0m\u001b[0moffset_var\u001b[0m\u001b[1;33m,\u001b[0m \u001b[0mrepeat_num\u001b[0m\u001b[1;33m,\u001b[0m \u001b[0maxis\u001b[0m \u001b[1;33m=\u001b[0m \u001b[1;36m1\u001b[0m\u001b[1;33m)\u001b[0m\u001b[1;33m\u001b[0m\u001b[1;33m\u001b[0m\u001b[0m\n\u001b[0;32m     41\u001b[0m         \u001b[1;32melse\u001b[0m\u001b[1;33m:\u001b[0m\u001b[1;33m\u001b[0m\u001b[1;33m\u001b[0m\u001b[0m\n\u001b[1;32m---> 42\u001b[1;33m             \u001b[1;32mraise\u001b[0m \u001b[0mValueError\u001b[0m\u001b[1;33m(\u001b[0m\u001b[1;34m'axis should be x or y'\u001b[0m\u001b[1;33m)\u001b[0m\u001b[1;33m\u001b[0m\u001b[1;33m\u001b[0m\u001b[0m\n\u001b[0m\u001b[0;32m     43\u001b[0m \u001b[1;33m\u001b[0m\u001b[0m\n\u001b[0;32m     44\u001b[0m \u001b[1;32mclass\u001b[0m \u001b[0mSigmoid\u001b[0m\u001b[1;33m:\u001b[0m\u001b[1;33m\u001b[0m\u001b[1;33m\u001b[0m\u001b[0m\n",
      "\u001b[1;31mValueError\u001b[0m: axis should be x or y"
     ]
    }
   ],
   "source": [
    "class MatMul:\n",
    "    def __init__(self, W):\n",
    "        self.weights = [W]\n",
    "        self.X = None\n",
    "        self.gradients = [np.zeros_like(W)]\n",
    "        \n",
    "    def forward(self, forward_input):\n",
    "        #get weights and calculate output, use self.X to store the input\n",
    "        W = self.weights[0]\n",
    "        output = np.dot(forward_input, W)\n",
    "        self.X = forward_input\n",
    "        \n",
    "        return output\n",
    "\n",
    "    def backward(self, d_backward_input):\n",
    "        #get weights and calculate dX\n",
    "        W = self.weights[0]\n",
    "        dX = np.dot(d_backward_input, W.T)\n",
    "        \n",
    "        #use stored input to and dinput to calculate dW and store to self.gradients list\n",
    "        dW = np.dot(self.X.T, d_backward_input)\n",
    "        self.gradients[0][...] = dW\n",
    "        \n",
    "        return dX\n",
    "    \n",
    "class Affine:\n",
    "    def __init__(self,w,b):\n",
    "        self.params = [w,b]\n",
    "        self.grads = [np.zeros_like(w), np.zeros_like(b)]\n",
    "        self.X = None\n",
    "        \n",
    "    def forward(self,x):\n",
    "        W,b = self.params\n",
    "        self.X = x\n",
    "        return np.dot(x,W) + b\n",
    "\n",
    "    def backward(self,dout):\n",
    "        W,b = self.params\n",
    "        dx = np.dot(dout, W.T)\n",
    "        dw = np.dot(self.X.T, dout)\n",
    "        db = np.sum(dout, axis = 0)\n",
    "        \n",
    "        self.grads[0][...] = dw\n",
    "        self.grads[1][...] = db\n",
    "        \n",
    "        return dx\n",
    "        \n",
    "class Repeat:\n",
    "    def __init__(self, offset_var, repeat_num, axis: str):\n",
    "        axis = axis.lower()\n",
    "        if axis == 'y':\n",
    "            self.repeated = np.repeat(offset_var, repeat_num, axis = 0)\n",
    "        elif axis == 'x':\n",
    "            self.repeated = np.repeat(offset_var, repeat_num, axis = 1)\n",
    "        else:\n",
    "            raise ValueError('axis should be x or y')\n",
    "        \n",
    "class Sigmoid:\n",
    "    def __init__(self):\n",
    "        self.X = None\n",
    "        \n",
    "    def forward(self,x):\n",
    "        self.X = 1/(1+np.exp(-x))\n",
    "        return self.X\n",
    "    \n",
    "    def backward(self,dout):\n",
    "        return dout*self.X*(1-self.X)\n",
    "        \n",
    "        \n"
   ]
  },
  {
   "cell_type": "code",
   "execution_count": null,
   "id": "05dfc0a0",
   "metadata": {},
   "outputs": [],
   "source": []
  }
 ],
 "metadata": {
  "kernelspec": {
   "display_name": "Python 3 (ipykernel)",
   "language": "python",
   "name": "python3"
  },
  "language_info": {
   "codemirror_mode": {
    "name": "ipython",
    "version": 3
   },
   "file_extension": ".py",
   "mimetype": "text/x-python",
   "name": "python",
   "nbconvert_exporter": "python",
   "pygments_lexer": "ipython3",
   "version": "3.9.13"
  },
  "varInspector": {
   "cols": {
    "lenName": 16,
    "lenType": 16,
    "lenVar": 40
   },
   "kernels_config": {
    "python": {
     "delete_cmd_postfix": "",
     "delete_cmd_prefix": "del ",
     "library": "var_list.py",
     "varRefreshCmd": "print(var_dic_list())"
    },
    "r": {
     "delete_cmd_postfix": ") ",
     "delete_cmd_prefix": "rm(",
     "library": "var_list.r",
     "varRefreshCmd": "cat(var_dic_list()) "
    }
   },
   "types_to_exclude": [
    "module",
    "function",
    "builtin_function_or_method",
    "instance",
    "_Feature"
   ],
   "window_display": false
  }
 },
 "nbformat": 4,
 "nbformat_minor": 5
}
