{
 "cells": [
  {
   "cell_type": "code",
   "execution_count": 1,
   "id": "fa08c816",
   "metadata": {
    "ExecuteTime": {
     "end_time": "2023-02-09T19:13:24.593453Z",
     "start_time": "2023-02-09T19:13:23.737447Z"
    }
   },
   "outputs": [],
   "source": [
    "import numpy as np\n",
    "import matplotlib.pyplot as plt\n",
    "import os\n",
    "from time import time\n",
    "from sklearn.utils.extmath import randomized_svd\n"
   ]
  },
  {
   "cell_type": "code",
   "execution_count": 2,
   "id": "738a9c2b",
   "metadata": {
    "ExecuteTime": {
     "end_time": "2023-02-09T19:13:24.608892Z",
     "start_time": "2023-02-09T19:13:24.595438Z"
    },
    "code_folding": [
     0,
     7
    ]
   },
   "outputs": [],
   "source": [
    "class Affine:\n",
    "    def __init__(self,w,b):\n",
    "        self.params = [w,b]\n",
    "    def forward(self,x):\n",
    "        W,b = self.params\n",
    "        return np.dot(x,W) + b\n",
    "\n",
    "class Sigmoid:\n",
    "    def forward(self,x):\n",
    "        return 1/(1+np.exp(-x))\n",
    "    \n",
    "def print_result(current, total, begin, end):\n",
    "    lis = ['[' if i == 0 else ']' if i == 21 else ' ' for i in range(22)]\n",
    "    index = int(current/total*20)\n",
    "    percentage = format(current*100 / total, '.2f')\n",
    "    if 0 <= index < 20:\n",
    "        pass\n",
    "    else:\n",
    "        index = 20\n",
    "    if index > 0:\n",
    "        for i in range(1,index+1):\n",
    "            lis[i] = u'\\u25A0'\n",
    "        string = ''.join(lis)\n",
    "        time = end-  begin\n",
    "        print(f'\\r{string} {percentage}% Time: {time:.3f}s', end='', flush=True)\n",
    "    else:\n",
    "        string = ''.join(lis)\n",
    "        time = end-  begin\n",
    "        print(f'\\r{string} {percentage}% Time: {time:.3f}s', end='', flush=True)\n"
   ]
  },
  {
   "cell_type": "code",
   "execution_count": 3,
   "id": "87890abc",
   "metadata": {
    "ExecuteTime": {
     "end_time": "2023-02-09T19:27:18.172868Z",
     "start_time": "2023-02-09T19:13:24.610881Z"
    },
    "code_folding": [
     0,
     1,
     9,
     68,
     74
    ],
    "run_control": {
     "marked": false
    }
   },
   "outputs": [
    {
     "name": "stdout",
     "output_type": "stream",
     "text": [
      "[■■■■■■■■■■■■■■■■■■■■] 100.00% Time: 833.270s"
     ]
    }
   ],
   "source": [
    "class Preprocess:\n",
    "    def __init__(self, text: str, *args):\n",
    "        dictionary = {i: f' {i}' for i in args}\n",
    "        text = text.lower()\n",
    "        for i in dictionary:\n",
    "            text = text.replace(i, dictionary.get(i))\n",
    "        self.text = text.split(' ')\n",
    "        self.repeated = []\n",
    "        \n",
    "    def get_word_id(self):\n",
    "        dictionary = {}\n",
    "        dictionary2 = {}\n",
    "        corpus = []\n",
    "        append = corpus.append\n",
    "        counter = 0\n",
    "        for index, i in enumerate(self.text):\n",
    "            if i not in dictionary:\n",
    "                dictionary[i] = counter\n",
    "                dictionary2[counter] = i\n",
    "                counter += 1\n",
    "                append(dictionary[i])\n",
    "            else:\n",
    "                self.repeated.append(index)\n",
    "        return dictionary, dictionary2, corpus\n",
    "\n",
    "    def get_single_context(self,id_word:dict, word_id:dict, corpus: list, word: str,window: int):  # list bound check\n",
    "        text = self.text\n",
    "        word = word.lower()\n",
    "        length = len(text)\n",
    "        if word not in text:\n",
    "            return\n",
    "        ls = [0] * len(corpus)\n",
    "        for index, i in enumerate(text):\n",
    "            if word_id[i] == word_id[word]:    \n",
    "                if index == 0:\n",
    "                    counter = 1\n",
    "                    for k in range(window):\n",
    "                        ls[counter] += 1\n",
    "                        counter += 1\n",
    "                elif index == length - 1:\n",
    "                    counter = 1\n",
    "                    for p in range(window):\n",
    "                        ls[-1-counter] += 1\n",
    "                        counter += 1\n",
    "                else:\n",
    "                    counter = counter2 = 1\n",
    "                    word1_id = word_id[text[index - counter]]\n",
    "                    word2_id = word_id[text[index + counter2]]\n",
    "                    for p in range(window):\n",
    "                        ls[word1_id] += 1\n",
    "                        ls[word2_id] += 1\n",
    "                        counter += 1\n",
    "                        counter2 += 1\n",
    "                        \n",
    "        return np.array(ls)\n",
    "\n",
    "    def get_coocurrenceMatrix(self,corpus: list,id_word: dict, word_id: dict, window:int):\n",
    "        ls = []\n",
    "        append = ls.append\n",
    "        total = len(word_id)\n",
    "        begin = time()\n",
    "        for index, i in enumerate(word_id):\n",
    "            append(self.get_single_context(id_word, word_id, corpus, i, window))\n",
    "            print_result(index+1, total, begin, time())\n",
    "        return np.array(ls), ls\n",
    "    \n",
    "def most_similar(matrix:list, word:str,word_id:dict, top:int):\n",
    "    word = word.lower()\n",
    "    if word not in word_id:\n",
    "        return\n",
    "    word_use_vector = matrix[word_id[word]]\n",
    "    ls = {id_word[index]:similarity(word_use_vector, i) for index, i in enumerate(matrix) if index is not word_id[word]}\n",
    "    return sorted(ls.items(),key=lambda x:x[1],reverse=True)[:top]\n",
    "        \n",
    "def similarity(vect1, vect2):\n",
    "    x = vect1/(np.sqrt(np.sum(vect1**2)) + 1e-8)\n",
    "    y = vect2/(np.sqrt(np.sum(vect2**2)) + 1e-8)\n",
    "    return np.dot(x,y)\n",
    "\n",
    "with open('ptb.train.txt', mode=\"r\") as fp:\n",
    "        string = fp.read()\n",
    "preprocessed = Preprocess(string, ',', '.')\n",
    "word_id, id_word, corpus = preprocessed.get_word_id()\n",
    "cooccurrence_matrix, matrix_list = preprocessed.get_coocurrenceMatrix(\n",
    "    corpus, id_word, word_id, 1)\n",
    "\n",
    "\n"
   ]
  },
  {
   "cell_type": "code",
   "execution_count": 42,
   "id": "ddcde10a",
   "metadata": {
    "ExecuteTime": {
     "end_time": "2023-02-09T20:49:39.613649Z",
     "start_time": "2023-02-09T20:44:21.249363Z"
    },
    "scrolled": true
   },
   "outputs": [
    {
     "name": "stderr",
     "output_type": "stream",
     "text": [
      "C:\\Users\\123\\AppData\\Local\\Temp\\ipykernel_13044\\3934193267.py:11: RuntimeWarning: overflow encountered in long_scalars\n",
      "  ppmi = np.log2(co_matrix[i,j]*N/(sigle_word[i]*sigle_word[j]) + 1e-8)\n",
      "C:\\Users\\123\\AppData\\Local\\Temp\\ipykernel_13044\\3934193267.py:11: RuntimeWarning: invalid value encountered in log2\n",
      "  ppmi = np.log2(co_matrix[i,j]*N/(sigle_word[i]*sigle_word[j]) + 1e-8)\n"
     ]
    },
    {
     "name": "stdout",
     "output_type": "stream",
     "text": [
      "[■■■■■■■■■■■■■■■■■■■ ] 99.00% Time: 314.977s"
     ]
    }
   ],
   "source": [
    "def PPMI(co_matrix, corpus, verbose=True):\n",
    "    ppmi_matrix = np.zeros_like(co_matrix, dtype=np.float32)\n",
    "    N = np.sum(co_matrix)\n",
    "    sigle_word = np.sum(co_matrix, axis = 0)\n",
    "    total = co_matrix.shape[0]*co_matrix.shape[1]\n",
    "    cols = co_matrix.shape[1]\n",
    "    cnt = 0\n",
    "    begin = time()\n",
    "    for i in range(co_matrix.shape[0]):\n",
    "        for j in range(co_matrix.shape[1]):\n",
    "            ppmi = np.log2(co_matrix[i,j]*N/(sigle_word[i]*sigle_word[j]) + 1e-8)\n",
    "            ppmi_matrix[i,j] = max(0, ppmi)\n",
    "            if verbose:\n",
    "                cnt += 1\n",
    "                if cnt % (total//100+1) == 0:\n",
    "                    print_result(cnt+1,total, begin, time())\n",
    "    return ppmi_matrix\n",
    "ppmi = PPMI(cooccurrence_matrix, corpus)"
   ]
  },
  {
   "cell_type": "code",
   "execution_count": 25,
   "id": "5193e241",
   "metadata": {
    "ExecuteTime": {
     "end_time": "2023-02-09T19:54:54.856046Z",
     "start_time": "2023-02-09T19:54:54.257170Z"
    }
   },
   "outputs": [
    {
     "data": {
      "text/plain": [
       "array([[ 3.1707481e-10,  3.3681815e-07,  4.0746872e-07, ...,\n",
       "        -2.1104420e-06,  4.5592725e-07, -1.5857007e-06],\n",
       "       [ 2.9022987e-11,  1.7053791e-08, -1.6358539e-08, ...,\n",
       "         7.3105082e-07,  2.9340379e-06, -2.8771435e-06],\n",
       "       [ 7.3731308e-12, -2.7782994e-09, -1.2323197e-07, ...,\n",
       "        -4.1778053e-06,  1.8882437e-07,  1.5046800e-06],\n",
       "       ...,\n",
       "       [ 5.4546371e-03, -9.1701625e-03,  4.3048002e-03, ...,\n",
       "        -1.2796047e-03,  5.1282910e-03, -7.4147563e-03],\n",
       "       [ 2.6714292e-03, -6.3869637e-03,  8.3345091e-03, ...,\n",
       "         4.7574486e-03,  1.1937259e-03,  9.0463627e-03],\n",
       "       [ 3.9116042e-03, -7.3255147e-03,  8.7847272e-03, ...,\n",
       "        -3.2729760e-04, -2.8748219e-03, -4.0622004e-03]], dtype=float32)"
      ]
     },
     "execution_count": 25,
     "metadata": {},
     "output_type": "execute_result"
    }
   ],
   "source": [
    "U,S,V = randomized_svd(ppmi, n_components=100, n_iter=5,random_state=None)\n",
    "U[0, :2]\n",
    "U"
   ]
  },
  {
   "cell_type": "code",
   "execution_count": 44,
   "id": "50a22830",
   "metadata": {
    "ExecuteTime": {
     "end_time": "2023-02-09T20:50:17.517814Z",
     "start_time": "2023-02-09T20:50:01.937871Z"
    }
   },
   "outputs": [
    {
     "data": {
      "text/plain": [
       "<matplotlib.collections.PathCollection at 0x2729abaa430>"
      ]
     },
     "execution_count": 44,
     "metadata": {},
     "output_type": "execute_result"
    },
    {
     "data": {
      "image/png": "[encoded data removed]",
      "text/plain": [
       "<Figure size 640x480 with 1 Axes>"
      ]
     },
     "metadata": {},
     "output_type": "display_data"
    }
   ],
   "source": [
    "for i in id_word:\n",
    "    plt.annotate(None, (U[i][0], U[i][1]))\n",
    "plt.scatter(U[:, 0], U[:, 1])\n"
   ]
  },
  {
   "cell_type": "code",
   "execution_count": 43,
   "id": "60bafd93",
   "metadata": {
    "ExecuteTime": {
     "end_time": "2023-02-09T20:49:57.288207Z",
     "start_time": "2023-02-09T20:49:55.053703Z"
    }
   },
   "outputs": [
    {
     "data": {
      "text/plain": [
       "[('drive', 0.9999999993318469),\n",
       " ('join', 0.8468773437675046),\n",
       " ('prevent', 0.8421647526831304),\n",
       " ('accept', 0.8299926096800301),\n",
       " ('pass', 0.8280148478323421),\n",
       " ('handle', 0.8279468116570649),\n",
       " ('avoid', 0.8275560805557627),\n",
       " ('play', 0.8273075551144803),\n",
       " ('improve', 0.8269911346467299),\n",
       " ('bring', 0.8265948408803923)]"
      ]
     },
     "execution_count": 43,
     "metadata": {},
     "output_type": "execute_result"
    }
   ],
   "source": [
    "most_similar(cooccurrence_matrix,'drive',word_id,top=10)"
   ]
  },
  {
   "cell_type": "code",
   "execution_count": null,
   "id": "acf172bc",
   "metadata": {},
   "outputs": [],
   "source": []
  }
 ],
 "metadata": {
  "kernelspec": {
   "display_name": "Python 3 (ipykernel)",
   "language": "python",
   "name": "python3"
  },
  "language_info": {
   "codemirror_mode": {
    "name": "ipython",
    "version": 3
   },
   "file_extension": ".py",
   "mimetype": "text/x-python",
   "name": "python",
   "nbconvert_exporter": "python",
   "pygments_lexer": "ipython3",
   "version": "3.9.13"
  },
  "varInspector": {
   "cols": {
    "lenName": 16,
    "lenType": 16,
    "lenVar": 40
   },
   "kernels_config": {
    "python": {
     "delete_cmd_postfix": "",
     "delete_cmd_prefix": "del ",
     "library": "var_list.py",
     "varRefreshCmd": "print(var_dic_list())"
    },
    "r": {
     "delete_cmd_postfix": ") ",
     "delete_cmd_prefix": "rm(",
     "library": "var_list.r",
     "varRefreshCmd": "cat(var_dic_list()) "
    }
   },
   "oldHeight": 608.844,
   "position": {
    "height": "630.844px",
    "left": "1837px",
    "right": "20px",
    "top": "120px",
    "width": "412px"
   },
   "types_to_exclude": [
    "module",
    "function",
    "builtin_function_or_method",
    "instance",
    "_Feature"
   ],
   "varInspector_section_display": "block",
   "window_display": true
  }
 },
 "nbformat": 4,
 "nbformat_minor": 5
}
