{
 "cells": [
  {
   "cell_type": "code",
   "execution_count": null,
   "id": "fa08c816",
   "metadata": {
    "ExecuteTime": {
     "end_time": "2023-02-09T07:31:07.396464Z",
     "start_time": "2023-02-09T07:31:07.379998Z"
    }
   },
   "outputs": [],
   "source": [
    "import numpy as np\n",
    "import matplotlib.pyplot as plt\n",
    "import os\n"
   ]
  },
  {
   "cell_type": "code",
   "execution_count": null,
   "id": "738a9c2b",
   "metadata": {
    "ExecuteTime": {
     "end_time": "2023-02-09T07:31:07.427257Z",
     "start_time": "2023-02-09T07:31:07.398947Z"
    },
    "code_folding": [
     0,
     7,
     11
    ]
   },
   "outputs": [],
   "source": [
    "class Affine:\n",
    "    def __init__(self,w,b):\n",
    "        self.params = [w,b]\n",
    "    def forward(self,x):\n",
    "        W,b = self.params\n",
    "        return np.dot(x,W) + b\n",
    "\n",
    "class Sigmoid:\n",
    "    def forward(self,x):\n",
    "        return 1/(1+np.exp(-x))\n",
    "    \n",
    "def print_result(current, total):\n",
    "    lis = ['[' if i == 0 else ']' if i == 21 else ' ' for i in range(22)]\n",
    "    index = int(current/total*20)\n",
    "    percentage = format(current*100 / total, '.2f')\n",
    "    if 0 <= index < 20:\n",
    "        pass\n",
    "    else:\n",
    "        index = 20\n",
    "    if index > 0:\n",
    "        for i in range(1,index+1):\n",
    "            lis[i] = u'\\u25A0'\n",
    "        string = ''.join(lis)\n",
    "        print(f'\\r{string} {percentage}%', end='', flush=True)\n",
    "    else:\n",
    "        string = ''.join(lis)\n",
    "        print(f'\\r{string} {percentage}%', end='', flush=True)\n"
   ]
  },
  {
   "cell_type": "code",
   "execution_count": null,
   "id": "87890abc",
   "metadata": {
    "ExecuteTime": {
     "end_time": "2023-02-09T07:31:07.442413Z",
     "start_time": "2023-02-09T07:31:07.429243Z"
    },
    "code_folding": [
     1,
     9,
     25,
     53,
     57,
     59,
     65,
     70
    ],
    "run_control": {
     "marked": false
    }
   },
   "outputs": [],
   "source": [
    "class Preprocess:\n",
    "    def __init__(self, text: str, *args):\n",
    "        dictionary = {i: f' {i}' for i in args}\n",
    "        text = text.lower()\n",
    "        for i in dictionary:\n",
    "            text = text.replace(i, dictionary.get(i))\n",
    "        self.text = text.split(' ')\n",
    "        self.repeated = []\n",
    "        \n",
    "    def get_word_id(self):\n",
    "        dictionary = {}\n",
    "        dictionary2 = {}\n",
    "        corpus = []\n",
    "        append = corpus.append\n",
    "        counter = 0\n",
    "        for index, i in enumerate(self.text):\n",
    "            if i not in dictionary:\n",
    "                dictionary[i] = counter\n",
    "                dictionary2[counter] = i\n",
    "                counter += 1\n",
    "                append(dictionary[i])\n",
    "            else:\n",
    "                self.repeated.append(index)\n",
    "        return dictionary, dictionary2, corpus\n",
    "\n",
    "    def get_single_context(self,id_word:dict, word_id:dict, corpus: list, word: str,window: int):  # list bound check\n",
    "        word = word.lower()\n",
    "        if word not in self.text:\n",
    "            return\n",
    "        ls = [0] * len(corpus)\n",
    "        for index, i in enumerate(self.text):\n",
    "            if word_id[i] == word_id[word]:    \n",
    "                if index == 0:\n",
    "                    counter = 1\n",
    "                    for k in range(window):\n",
    "                        ls[counter] += 1\n",
    "                        counter += 1\n",
    "                elif index == len(self.text) - 1:\n",
    "                    counter = 1\n",
    "                    for p in range(window):\n",
    "                        ls[-1-counter] += 1\n",
    "                        counter += 1\n",
    "                else:\n",
    "                    counter = counter2 = 1\n",
    "                    word1_id = word_id[self.text[index - counter]]\n",
    "                    word2_id = word_id[self.text[index + counter2]]\n",
    "                    for p in range(window):\n",
    "                        ls[word1_id] += 1\n",
    "                        ls[word2_id] += 1\n",
    "                        counter += 1\n",
    "                        counter2 += 1\n",
    "        return np.array(ls)\n",
    "\n",
    "    def get_coocurrenceMatrix(self,corpus: list,id_word: dict, word_id: dict, window:int):\n",
    "        ls = [self.get_single_context(id_word, word_id, corpus, i, window) for i in word_id]\n",
    "        return np.array(ls), ls\n",
    "    \n",
    "def most_similar(matrix:list, word:str,word_id:dict, top:int):\n",
    "    word = word.lower()\n",
    "    if word not in word_id:\n",
    "        return\n",
    "    word_use_vector = matrix[word_id[word]]\n",
    "    ls = {id_word[index]:similarity(word_use_vector, i) for index, i in enumerate(matrix) if index is not word_id[word]}\n",
    "    return sorted(ls.items(),key=lambda x:x[1],reverse=True)[:top]\n",
    "        \n",
    "def similarity(vect1, vect2):\n",
    "    x = vect1/(np.sqrt(np.sum(vect1**2)) + 1e-8)\n",
    "    y = vect2/(np.sqrt(np.sum(vect2**2)) + 1e-8)\n",
    "    return np.dot(x,y)\n",
    "\n",
    "def PPMI(co_matrix, corpus):\n",
    "    ppmi_matrix = np.zeros_like(co_matrix, dtype=np.float32)\n",
    "    N = np.sum(co_matrix)\n",
    "    sigle_word = np.sum(co_matrix, axis = 0)\n",
    "    total = co_matrix.shape[0]*co_matrix.shape[1]\n",
    "    cols = co_matrix.shape[1]\n",
    "    for i in range(co_matrix.shape[0]):\n",
    "        for j in range(co_matrix.shape[1]):\n",
    "            ppmi = np.log2(co_matrix[i,j]*N/(sigle_word[i]*sigle_word[j]) + 1e-8)\n",
    "            ppmi_matrix[i,j] = max(0, ppmi)\n",
    "            print_result(i*cols+j+1, total)\n",
    "    return ppmi_matrix\n",
    "    "
   ]
  },
  {
   "cell_type": "code",
   "execution_count": null,
   "id": "575b0c26",
   "metadata": {
    "ExecuteTime": {
     "end_time": "2023-02-09T07:31:07.488827Z",
     "start_time": "2023-02-09T07:31:07.445396Z"
    }
   },
   "outputs": [],
   "source": [
    "with open('ptb.train.txt', mode=\"r\") as fp:\n",
    "        string = fp.read()\n",
    "\n",
    "preprocessed = Preprocess(string, ',', '.')\n",
    "word_id, id_word, corpus = preprocessed.get_word_id()\n",
    "preprocessed.get_single_context(id_word, word_id, corpus, 'say', 1)\n",
    "cooccurrence_matrix, matrix_list = preprocessed.get_coocurrenceMatrix(\n",
    "    corpus, id_word, word_id, 1)\n",
    "ppmi = PPMI(cooccurrence_matrix, corpus)\n",
    "print(cooccurrence_matrix)"
   ]
  },
  {
   "cell_type": "code",
   "execution_count": null,
   "id": "ddcde10a",
   "metadata": {},
   "outputs": [],
   "source": [
    "U,S,V = np.linalg.svd(ppmi)\n",
    "U[0, :2]\n",
    "U"
   ]
  },
  {
   "cell_type": "code",
   "execution_count": null,
   "id": "5193e241",
   "metadata": {},
   "outputs": [],
   "source": [
    "for i in id_word:\n",
    "    plt.annotate(id_word[i],(U[i][0], U[i][1]))\n",
    "plt.scatter(U[:, 0],U[:, 1])"
   ]
  }
 ],
 "metadata": {
  "kernelspec": {
   "display_name": "Python 3 (ipykernel)",
   "language": "python",
   "name": "python3"
  },
  "language_info": {
   "codemirror_mode": {
    "name": "ipython",
    "version": 3
   },
   "file_extension": ".py",
   "mimetype": "text/x-python",
   "name": "python",
   "nbconvert_exporter": "python",
   "pygments_lexer": "ipython3",
   "version": "3.9.13"
  },
  "varInspector": {
   "cols": {
    "lenName": 16,
    "lenType": 16,
    "lenVar": 40
   },
   "kernels_config": {
    "python": {
     "delete_cmd_postfix": "",
     "delete_cmd_prefix": "del ",
     "library": "var_list.py",
     "varRefreshCmd": "print(var_dic_list())"
    },
    "r": {
     "delete_cmd_postfix": ") ",
     "delete_cmd_prefix": "rm(",
     "library": "var_list.r",
     "varRefreshCmd": "cat(var_dic_list()) "
    }
   },
   "oldHeight": 608.844,
   "position": {
    "height": "630.844px",
    "left": "1837px",
    "right": "20px",
    "top": "120px",
    "width": "412px"
   },
   "types_to_exclude": [
    "module",
    "function",
    "builtin_function_or_method",
    "instance",
    "_Feature"
   ],
   "varInspector_section_display": "block",
   "window_display": true
  }
 },
 "nbformat": 4,
 "nbformat_minor": 5
}
